{
 "cells": [
  {
   "cell_type": "code",
   "execution_count": 161,
   "metadata": {},
   "outputs": [],
   "source": [
    "# importing dependencies\n",
    "import pandas as pd\n",
    "\n",
    "# loading data file\n",
    "data_file = \"Resources/purchase_data.csv\"\n",
    "purchase_data = pd.read_csv(data_file)"
   ]
  },
  {
   "cell_type": "code",
   "execution_count": 162,
   "metadata": {},
   "outputs": [
    {
     "data": {
      "text/html": [
       "<div>\n",
       "<style scoped>\n",
       "    .dataframe tbody tr th:only-of-type {\n",
       "        vertical-align: middle;\n",
       "    }\n",
       "\n",
       "    .dataframe tbody tr th {\n",
       "        vertical-align: top;\n",
       "    }\n",
       "\n",
       "    .dataframe thead th {\n",
       "        text-align: right;\n",
       "    }\n",
       "</style>\n",
       "<table border=\"1\" class=\"dataframe\">\n",
       "  <thead>\n",
       "    <tr style=\"text-align: right;\">\n",
       "      <th></th>\n",
       "      <th>Total Players</th>\n",
       "    </tr>\n",
       "  </thead>\n",
       "  <tbody>\n",
       "    <tr>\n",
       "      <th>0</th>\n",
       "      <td>576</td>\n",
       "    </tr>\n",
       "  </tbody>\n",
       "</table>\n",
       "</div>"
      ],
      "text/plain": [
       "   Total Players\n",
       "0            576"
      ]
     },
     "execution_count": 162,
     "metadata": {},
     "output_type": "execute_result"
    }
   ],
   "source": [
    "# Display the total number of players\n",
    "total_players_count = len(purchase_data[\"SN\"].unique())\n",
    "display_total_players = pd.DataFrame([{\"Total Players\" : total_players_count }])\n",
    "\n",
    "display_total_players"
   ]
  },
  {
   "cell_type": "code",
   "execution_count": 163,
   "metadata": {},
   "outputs": [
    {
     "data": {
      "text/html": [
       "<div>\n",
       "<style scoped>\n",
       "    .dataframe tbody tr th:only-of-type {\n",
       "        vertical-align: middle;\n",
       "    }\n",
       "\n",
       "    .dataframe tbody tr th {\n",
       "        vertical-align: top;\n",
       "    }\n",
       "\n",
       "    .dataframe thead th {\n",
       "        text-align: right;\n",
       "    }\n",
       "</style>\n",
       "<table border=\"1\" class=\"dataframe\">\n",
       "  <thead>\n",
       "    <tr style=\"text-align: right;\">\n",
       "      <th></th>\n",
       "      <th>Number of Unique Items</th>\n",
       "      <th>Average Price</th>\n",
       "      <th>Number of Purchases</th>\n",
       "      <th>Total Revenue</th>\n",
       "    </tr>\n",
       "  </thead>\n",
       "  <tbody>\n",
       "    <tr>\n",
       "      <th>0</th>\n",
       "      <td>179</td>\n",
       "      <td>3.05</td>\n",
       "      <td>780</td>\n",
       "      <td>2379.77</td>\n",
       "    </tr>\n",
       "  </tbody>\n",
       "</table>\n",
       "</div>"
      ],
      "text/plain": [
       "   Number of Unique Items  Average Price  Number of Purchases  Total Revenue\n",
       "0                     179           3.05                  780        2379.77"
      ]
     },
     "execution_count": 163,
     "metadata": {},
     "output_type": "execute_result"
    }
   ],
   "source": [
    "# Display Purchasing Analysis (Total)\n",
    "number_of_unique_items = len(purchase_data[\"Item Name\"].unique())\n",
    "average_price = round(purchase_data[\"Price\"].mean(), 2)\n",
    "number_of_purchases = len(purchase_data.index)\n",
    "total_revenue = purchase_data[\"Price\"].sum()\n",
    "purchasing_analysis_results = [{\n",
    "    \"Number of Unique Items\": number_of_unique_items,\n",
    "    \"Average Price\": average_price,\n",
    "    \"Number of Purchases\": number_of_purchases,\n",
    "    \"Total Revenue\": total_revenue\n",
    "}]\n",
    "display_purchasing_analysis_results = pd.DataFrame(purchasing_analysis_results)\n",
    "display_purchasing_analysis_results"
   ]
  },
  {
   "cell_type": "code",
   "execution_count": 164,
   "metadata": {},
   "outputs": [
    {
     "data": {
      "text/html": [
       "<div>\n",
       "<style scoped>\n",
       "    .dataframe tbody tr th:only-of-type {\n",
       "        vertical-align: middle;\n",
       "    }\n",
       "\n",
       "    .dataframe tbody tr th {\n",
       "        vertical-align: top;\n",
       "    }\n",
       "\n",
       "    .dataframe thead th {\n",
       "        text-align: right;\n",
       "    }\n",
       "</style>\n",
       "<table border=\"1\" class=\"dataframe\">\n",
       "  <thead>\n",
       "    <tr style=\"text-align: right;\">\n",
       "      <th></th>\n",
       "      <th>Gender</th>\n",
       "      <th>Percentage of Players</th>\n",
       "    </tr>\n",
       "  </thead>\n",
       "  <tbody>\n",
       "    <tr>\n",
       "      <th>Male</th>\n",
       "      <td>484</td>\n",
       "      <td>84.03</td>\n",
       "    </tr>\n",
       "    <tr>\n",
       "      <th>Female</th>\n",
       "      <td>81</td>\n",
       "      <td>14.06</td>\n",
       "    </tr>\n",
       "    <tr>\n",
       "      <th>Other / Non-Disclosed</th>\n",
       "      <td>11</td>\n",
       "      <td>1.91</td>\n",
       "    </tr>\n",
       "  </tbody>\n",
       "</table>\n",
       "</div>"
      ],
      "text/plain": [
       "                       Gender  Percentage of Players\n",
       "Male                      484                  84.03\n",
       "Female                     81                  14.06\n",
       "Other / Non-Disclosed      11                   1.91"
      ]
     },
     "execution_count": 164,
     "metadata": {},
     "output_type": "execute_result"
    }
   ],
   "source": [
    "# Analyzing Gender Demographics\n",
    "unique_purchase_data = purchase_data.drop_duplicates(\"SN\")\n",
    "by_gender_purchase_data = pd.DataFrame(unique_purchase_data[\"Gender\"].value_counts())\n",
    "percent = round((by_gender_purchase_data[\"Gender\"] / total_players_count) * 100, 2)\n",
    "by_gender_purchase_data[\"Percentage of Players\"] = percent\n",
    "by_gender_purchase_data"
   ]
  },
  {
   "cell_type": "code",
   "execution_count": 171,
   "metadata": {},
   "outputs": [
    {
     "data": {
      "text/html": [
       "<div>\n",
       "<style scoped>\n",
       "    .dataframe tbody tr th:only-of-type {\n",
       "        vertical-align: middle;\n",
       "    }\n",
       "\n",
       "    .dataframe tbody tr th {\n",
       "        vertical-align: top;\n",
       "    }\n",
       "\n",
       "    .dataframe thead th {\n",
       "        text-align: right;\n",
       "    }\n",
       "</style>\n",
       "<table border=\"1\" class=\"dataframe\">\n",
       "  <thead>\n",
       "    <tr style=\"text-align: right;\">\n",
       "      <th></th>\n",
       "      <th>Purchase Count</th>\n",
       "      <th>Average Purchase Price</th>\n",
       "      <th>Total Purchase Value</th>\n",
       "      <th>Avg Total Purchase per Person</th>\n",
       "    </tr>\n",
       "    <tr>\n",
       "      <th>Gender</th>\n",
       "      <th></th>\n",
       "      <th></th>\n",
       "      <th></th>\n",
       "      <th></th>\n",
       "    </tr>\n",
       "  </thead>\n",
       "  <tbody>\n",
       "    <tr>\n",
       "      <th>Female</th>\n",
       "      <td>113</td>\n",
       "      <td>3.20</td>\n",
       "      <td>361.94</td>\n",
       "      <td>4.47</td>\n",
       "    </tr>\n",
       "    <tr>\n",
       "      <th>Male</th>\n",
       "      <td>652</td>\n",
       "      <td>3.02</td>\n",
       "      <td>1967.64</td>\n",
       "      <td>4.07</td>\n",
       "    </tr>\n",
       "    <tr>\n",
       "      <th>Other / Non-Disclosed</th>\n",
       "      <td>15</td>\n",
       "      <td>3.35</td>\n",
       "      <td>50.19</td>\n",
       "      <td>4.56</td>\n",
       "    </tr>\n",
       "  </tbody>\n",
       "</table>\n",
       "</div>"
      ],
      "text/plain": [
       "                       Purchase Count  Average Purchase Price  \\\n",
       "Gender                                                          \n",
       "Female                            113                    3.20   \n",
       "Male                              652                    3.02   \n",
       "Other / Non-Disclosed              15                    3.35   \n",
       "\n",
       "                       Total Purchase Value  Avg Total Purchase per Person  \n",
       "Gender                                                                      \n",
       "Female                               361.94                           4.47  \n",
       "Male                                1967.64                           4.07  \n",
       "Other / Non-Disclosed                 50.19                           4.56  "
      ]
     },
     "execution_count": 171,
     "metadata": {},
     "output_type": "execute_result"
    }
   ],
   "source": [
    "# Purchasing Analysis (Gender)\n",
    "# creating gender based subset of data\n",
    "male_purchase_data = purchase_data[purchase_data[\"Gender\"] == \"Male\"]\n",
    "male_unique_sale_data = male_purchase_data.drop_duplicates('SN')\n",
    "female_purchase_data = purchase_data[purchase_data[\"Gender\"] == \"Female\"]\n",
    "female_unique_sale_data = female_purchase_data.drop_duplicates('SN')\n",
    "other_purchase_data = purchase_data[purchase_data[\"Gender\"] == \"Other / Non-Disclosed\"]\n",
    "other_unique_sale_data = other_purchase_data.drop_duplicates('SN')\n",
    "\n",
    "# performing calculation for each male dataset\n",
    "male_purchase_count = len(male_purchase_data)\n",
    "male_total_value = male_purchase_data[\"Price\"].sum()\n",
    "male_average_price = round(male_total_value/male_purchase_count,2)\n",
    "male_average_per_person = round(male_total_value/len(male_unique_sale_data), 2)   \n",
    "\n",
    "# performing calculation for each female dataset\n",
    "female_purchase_count = len(female_purchase_data)\n",
    "female_total_value = female_purchase_data[\"Price\"].sum()\n",
    "female_average_price = round(female_total_value/female_purchase_count,2)\n",
    "female_average_per_person = round(female_total_value/len(female_unique_sale_data), 2)   \n",
    "                                  \n",
    "# performing calculation for each other dataset\n",
    "other_purchase_count = len(other_purchase_data)\n",
    "other_total_value = other_purchase_data[\"Price\"].sum()\n",
    "other_average_price = round(other_total_value/other_purchase_count,2)\n",
    "other_average_per_person = round(other_total_value/len(other_unique_sale_data), 2) \n",
    "\n",
    "# create display dataframe\n",
    "gender_based_purchasing_analysis = [\n",
    "    {\"Gender\": \"Male\", \"Purchase Count\": male_purchase_count, \n",
    "     \"Average Purchase Price\": male_average_price, \n",
    "     \"Total Purchase Value\": male_total_value, \"Avg Total Purchase per Person\": round(male_average_per_person,2)},\n",
    "    {\"Gender\": \"Female\", \"Purchase Count\": female_purchase_count, \n",
    "     \"Average Purchase Price\": female_average_price, \n",
    "     \"Total Purchase Value\": female_total_value, \"Avg Total Purchase per Person\": female_average_per_person},\n",
    "    {\"Gender\": \"Other / Non-Disclosed\", \"Purchase Count\": other_purchase_count, \n",
    "     \"Average Purchase Price\": other_average_price, \n",
    "     \"Total Purchase Value\": other_total_value, \"Avg Total Purchase per Person\": other_average_per_person}\n",
    "]\n",
    "\n",
    "# sort and display result without the index number\n",
    "gender_based_purchasing_analysis_results = pd.DataFrame(gender_based_purchasing_analysis).sort_values(by=[\"Gender\"])\n",
    "gender_based_purchasing_analysis_results.set_index(\"Gender\")"
   ]
  },
  {
   "cell_type": "code",
   "execution_count": null,
   "metadata": {},
   "outputs": [],
   "source": [
    "# Analyze Age Demographics\n",
    "purchase_data"
   ]
  }
 ],
 "metadata": {
  "kernelspec": {
   "display_name": "Python 3",
   "language": "python",
   "name": "python3"
  },
  "language_info": {
   "codemirror_mode": {
    "name": "ipython",
    "version": 3
   },
   "file_extension": ".py",
   "mimetype": "text/x-python",
   "name": "python",
   "nbconvert_exporter": "python",
   "pygments_lexer": "ipython3",
   "version": "3.7.6"
  }
 },
 "nbformat": 4,
 "nbformat_minor": 4
}
